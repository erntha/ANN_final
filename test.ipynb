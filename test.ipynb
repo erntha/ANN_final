{
 "cells": [
  {
   "cell_type": "markdown",
   "metadata": {},
   "source": [
    "# Defining the Model Parameters"
   ]
  },
  {
   "cell_type": "code",
   "execution_count": 2,
   "metadata": {},
   "outputs": [],
   "source": [
    "import torch\n",
    "import torch.nn as nn\n",
    "from torchvision import transforms\n",
    "from PIL import Image\n",
    "\n",
    "# Define the model class\n",
    "class Model_cointoss(nn.Module):\n",
    "    def __init__(self):\n",
    "        super(Model_cointoss, self).__init__()\n",
    "        # Define the CNN layers\n",
    "        self.conv_layers = nn.Sequential(\n",
    "            nn.Conv2d(3, 32, kernel_size=3, stride=1, padding=1),\n",
    "            nn.MaxPool2d(kernel_size=2, stride=2),\n",
    "            nn.ReLU(),\n",
    "            nn.Conv2d(32, 64, kernel_size=3, stride=1, padding=1),\n",
    "            nn.MaxPool2d(kernel_size=2, stride=2),\n",
    "            nn.ReLU()\n",
    "        )\n",
    "        # Flatten layer\n",
    "        self.flatten = nn.Flatten()\n",
    "        # Dense layers\n",
    "        self.dense_layers = nn.Sequential(\n",
    "            nn.Linear(2560001, 128),  # +1 for the integer label, adjust the input size\n",
    "            nn.ReLU(),\n",
    "            nn.Linear(128, 64),\n",
    "            nn.ReLU(),\n",
    "        )\n",
    "        # Output layers\n",
    "        self.classification_output = nn.Linear(64, 1)  # Single neuron for binary classification\n",
    "        self.regression_output = nn.Linear(64, 1)  # Single neuron for regression output\n",
    "\n",
    "    def forward(self, x, label):\n",
    "        x = self.conv_layers(x)\n",
    "        x = self.flatten(x)\n",
    "        combined = torch.cat((x, label.unsqueeze(1)), dim=1)\n",
    "        combined = self.dense_layers(combined)\n",
    "        class_output = torch.sigmoid(self.classification_output(combined))\n",
    "        reg_output = self.regression_output(combined)\n",
    "        return class_output, reg_output\n",
    "\n",
    "# Function to preprocess the image\n",
    "def preprocess_image(image_path):\n",
    "    image = Image.open(image_path).convert('RGB')\n",
    "    transform = transforms.Compose([\n",
    "        # transforms.Resize((128, 128)),  # Uncomment if used during training\n",
    "        transforms.ToTensor(),\n",
    "        transforms.Normalize(mean=[0.5, 0.5, 0.5], std=[0.5, 0.5, 0.5])\n",
    "    ])\n",
    "    return transform(image).unsqueeze(0)  # Add batch dimension\n",
    "\n",
    "def predict(model, image_path, device):\n",
    "    image = preprocess_image(image_path)\n",
    "    image = image.to(device)\n",
    "    initial_position = torch.tensor([0], device=device)\n",
    "    with torch.no_grad():\n",
    "        predicted_binary_label, predicted_distance_label = model(image, initial_position)\n",
    "        # Apply threshold to convert to hard classification\n",
    "        binary_label_class = 1 if predicted_binary_label.item() >= 0.5 else 0\n",
    "        return binary_label_class, predicted_distance_label.item()\n",
    "\n",
    "# Main execution\n",
    "# if __name__ == \"__main__\":\n",
    "#     model = Model31()\n",
    "#     model.load_state_dict(torch.load('model31.pth'))\n",
    "#     model.eval()\n",
    "#     device = torch.device(\"cuda\" if torch.cuda.is_available() else \"cpu\")\n",
    "#     model.to(device)\n",
    "\n",
    "#     binary_label, distance_label = predict(model, '/home/eren/Desktop/para/test/6_vert_8cm_tura.png', device)\n",
    "#     print(f'Binary Label: {binary_label}, Distance Label: {distance_label}')"
   ]
  },
  {
   "cell_type": "markdown",
   "metadata": {},
   "source": [
    "# Testing Model on New Images"
   ]
  },
  {
   "cell_type": "code",
   "execution_count": 3,
   "metadata": {},
   "outputs": [
    {
     "name": "stdout",
     "output_type": "stream",
     "text": [
      "9_tura_32cm_tura.png, Binary Prediction (0 for heads, 1 for tails) : 1, Estimated Distance: 14.629281997680664\n",
      "11_tura_26cm_yazi.png, Binary Prediction (0 for heads, 1 for tails) : 0, Estimated Distance: 22.031442642211914\n",
      "1_yazi_10cm_tura.png, Binary Prediction (0 for heads, 1 for tails) : 1, Estimated Distance: 15.02271556854248\n",
      "5_vert_18cm_yazi.png, Binary Prediction (0 for heads, 1 for tails) : 1, Estimated Distance: 21.24978256225586\n",
      "6_vert_8cm_tura.png, Binary Prediction (0 for heads, 1 for tails) : 1, Estimated Distance: 43.62507247924805\n",
      "3_yazi_81cm_tura.png, Binary Prediction (0 for heads, 1 for tails) : 1, Estimated Distance: 23.65674591064453\n",
      "12_tura_74cm_yazi.png, Binary Prediction (0 for heads, 1 for tails) : 1, Estimated Distance: 44.77896499633789\n",
      "7_vert_41cm_yazi.png, Binary Prediction (0 for heads, 1 for tails) : 1, Estimated Distance: 21.930335998535156\n",
      "10_tura_11cm_yazi.png, Binary Prediction (0 for heads, 1 for tails) : 1, Estimated Distance: 24.372745513916016\n",
      "8_vert_16cm_yazi.png, Binary Prediction (0 for heads, 1 for tails) : 1, Estimated Distance: 47.81521987915039\n",
      "4_yazi_16cm_tura.png, Binary Prediction (0 for heads, 1 for tails) : 1, Estimated Distance: 28.111303329467773\n",
      "2_yazi_15cm_tura.png, Binary Prediction (0 for heads, 1 for tails) : 1, Estimated Distance: 26.480815887451172\n"
     ]
    }
   ],
   "source": [
    "import os\n",
    "\n",
    "def predict_on_folder(model, folder_path, device):\n",
    "    results = []\n",
    "    for filename in os.listdir(folder_path):\n",
    "        if filename.endswith(('.png', '.jpg', '.jpeg')):  # Check for image file extensions\n",
    "            image_path = os.path.join(folder_path, filename)\n",
    "            binary_label, distance_label = predict(model, image_path, device)\n",
    "            results.append((filename, binary_label, distance_label))\n",
    "    return results\n",
    "\n",
    "# Main execution\n",
    "if __name__ == \"__main__\":\n",
    "    model = Model_cointoss()\n",
    "    model.load_state_dict(torch.load('model31.pth'))\n",
    "    model.eval()\n",
    "    device = torch.device(\"cuda\" if torch.cuda.is_available() else \"cpu\")\n",
    "    model.to(device)\n",
    "\n",
    "    folder_path = '/home/eren/Desktop/para/test'\n",
    "    test_results = predict_on_folder(model, folder_path, device)\n",
    "\n",
    "    # Print all results\n",
    "    for filename, binary_label, distance_label in test_results:\n",
    "        print(f'{filename}, Binary Prediction (0 for heads, 1 for tails) : {binary_label}, Estimated Distance: {distance_label}')\n",
    "        \n",
    "def extract_info_from_filename(filename):\n",
    "    parts = filename.split('_')\n",
    "    # Extract true class\n",
    "    true_class = 0 if parts[-1].split('.')[0] == 'tura' else 1\n",
    "    # Extract true distance\n",
    "    true_distance = float(parts[2].replace('cm', ''))\n",
    "    return true_class, true_distance\n",
    "\n",
    "def predict_on_folder(model, folder_path, device):\n",
    "    results = []\n",
    "    for filename in os.listdir(folder_path):\n",
    "        if filename.endswith(('.png')):\n",
    "            true_class, true_distance = extract_info_from_filename(filename)\n",
    "            image_path = os.path.join(folder_path, filename)\n",
    "            predicted_binary_label, predicted_distance_label = predict(model, image_path, device)\n",
    "            results.append((filename, true_class, true_distance, predicted_binary_label, predicted_distance_label))\n",
    "    return results"
   ]
  },
  {
   "cell_type": "markdown",
   "metadata": {},
   "source": [
    "# Evaluation of the Model"
   ]
  },
  {
   "cell_type": "code",
   "execution_count": 13,
   "metadata": {},
   "outputs": [
    {
     "name": "stdout",
     "output_type": "stream",
     "text": [
      "Confusion Matrix:\n",
      "[[0 6]\n",
      " [1 5]]\n",
      "Mean Squared Error for regression: 633.1439117202684\n"
     ]
    }
   ],
   "source": [
    "import numpy as np\n",
    "from sklearn.metrics import confusion_matrix, mean_squared_error\n",
    "\n",
    "def calculate_metrics(test_results):\n",
    "    true_classes = []\n",
    "    predicted_classes = []\n",
    "    true_distances = []\n",
    "    predicted_distances = []\n",
    "\n",
    "    for _, true_class, true_distance, predicted_binary_label, predicted_distance_label in test_results:\n",
    "        true_classes.append(true_class)\n",
    "        predicted_classes.append(predicted_binary_label)\n",
    "        true_distances.append(true_distance)\n",
    "        predicted_distances.append(predicted_distance_label)\n",
    "\n",
    "    return conf_matrix, mse\n",
    "\n",
    "# Main execution\n",
    "if __name__ == \"__main__\":\n",
    "    test_results = predict_on_folder(model, '/home/eren/Desktop/para/test', device)\n",
    "\n",
    "# Extracting the relevant columns\n",
    "actual_classes = [row[1] for row in test_results]\n",
    "predicted_classes = [row[3] for row in test_results]\n",
    "actual_x_values = [row[2] for row in test_results]\n",
    "predicted_x_values = [row[4] for row in test_results]\n",
    "\n",
    "# Creating the confusion matrix\n",
    "conf_matrix = confusion_matrix(actual_classes, predicted_classes)\n",
    "\n",
    "# Calculating the MSE\n",
    "mse = mean_squared_error(actual_x_values, predicted_x_values)\n",
    "\n",
    "print(\"Confusion Matrix:\")\n",
    "print(conf_matrix)\n",
    "print(\"Mean Squared Error for regression:\", mse)"
   ]
  }
 ],
 "metadata": {
  "kernelspec": {
   "display_name": "Python 3",
   "language": "python",
   "name": "python3"
  },
  "language_info": {
   "codemirror_mode": {
    "name": "ipython",
    "version": 3
   },
   "file_extension": ".py",
   "mimetype": "text/x-python",
   "name": "python",
   "nbconvert_exporter": "python",
   "pygments_lexer": "ipython3",
   "version": "3.10.12"
  }
 },
 "nbformat": 4,
 "nbformat_minor": 2
}
